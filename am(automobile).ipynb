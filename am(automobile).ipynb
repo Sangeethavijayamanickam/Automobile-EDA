{
 "cells": [
  {
   "cell_type": "markdown",
   "id": "0b14cb2c",
   "metadata": {},
   "source": [
    "<H1> AUTOMOBILE </H1>"
   ]
  },
  {
   "cell_type": "markdown",
   "id": "ac7a9dd7",
   "metadata": {},
   "source": [
    "<h2> Import Libraries </h2>"
   ]
  },
  {
   "cell_type": "code",
   "execution_count": 155,
   "id": "faf80416",
   "metadata": {},
   "outputs": [],
   "source": [
    "import pandas as pd\n",
    "import numpy as np\n",
    "import matplotlib.pyplot as plt\n",
    "import seaborn as sns\n",
    "from scipy import stats\n",
    "import statsmodels.api as sm\n",
    "from scipy.stats import pearsonr"
   ]
  },
  {
   "cell_type": "markdown",
   "id": "f4c35b74",
   "metadata": {},
   "source": [
    "<h4> replacing and filling columns names </h4>"
   ]
  },
  {
   "cell_type": "code",
   "execution_count": 156,
   "id": "bec7b0e4",
   "metadata": {},
   "outputs": [],
   "source": [
    "am=pd.read_csv(\"file:///C:/Users/Dell/Downloads/imports-85.data\",names=['sym','normloss','make','fuel_type','aspiration','no_doors','body_style','drive_wheels','engine_location','wheel_base','length','width','height','curb_weight','engine_type','no_cylinders','engine_size','fuel systems','bore','stroke','compression_ratio','horpower','peak_rpm','city_mpg','highway_mpg','price'],na_values='?')"
   ]
  },
  {
   "cell_type": "code",
   "execution_count": 157,
   "id": "d7caa2bf",
   "metadata": {},
   "outputs": [
    {
     "data": {
      "text/html": [
       "<div>\n",
       "<style scoped>\n",
       "    .dataframe tbody tr th:only-of-type {\n",
       "        vertical-align: middle;\n",
       "    }\n",
       "\n",
       "    .dataframe tbody tr th {\n",
       "        vertical-align: top;\n",
       "    }\n",
       "\n",
       "    .dataframe thead th {\n",
       "        text-align: right;\n",
       "    }\n",
       "</style>\n",
       "<table border=\"1\" class=\"dataframe\">\n",
       "  <thead>\n",
       "    <tr style=\"text-align: right;\">\n",
       "      <th></th>\n",
       "      <th>sym</th>\n",
       "      <th>normloss</th>\n",
       "      <th>make</th>\n",
       "      <th>fuel_type</th>\n",
       "      <th>aspiration</th>\n",
       "      <th>no_doors</th>\n",
       "      <th>body_style</th>\n",
       "      <th>drive_wheels</th>\n",
       "      <th>engine_location</th>\n",
       "      <th>wheel_base</th>\n",
       "      <th>...</th>\n",
       "      <th>engine_size</th>\n",
       "      <th>fuel systems</th>\n",
       "      <th>bore</th>\n",
       "      <th>stroke</th>\n",
       "      <th>compression_ratio</th>\n",
       "      <th>horpower</th>\n",
       "      <th>peak_rpm</th>\n",
       "      <th>city_mpg</th>\n",
       "      <th>highway_mpg</th>\n",
       "      <th>price</th>\n",
       "    </tr>\n",
       "  </thead>\n",
       "  <tbody>\n",
       "    <tr>\n",
       "      <th>0</th>\n",
       "      <td>3</td>\n",
       "      <td>NaN</td>\n",
       "      <td>alfa-romero</td>\n",
       "      <td>gas</td>\n",
       "      <td>std</td>\n",
       "      <td>two</td>\n",
       "      <td>convertible</td>\n",
       "      <td>rwd</td>\n",
       "      <td>front</td>\n",
       "      <td>88.6</td>\n",
       "      <td>...</td>\n",
       "      <td>130</td>\n",
       "      <td>mpfi</td>\n",
       "      <td>3.47</td>\n",
       "      <td>2.68</td>\n",
       "      <td>9.0</td>\n",
       "      <td>111.0</td>\n",
       "      <td>5000.0</td>\n",
       "      <td>21</td>\n",
       "      <td>27</td>\n",
       "      <td>13495.0</td>\n",
       "    </tr>\n",
       "    <tr>\n",
       "      <th>1</th>\n",
       "      <td>3</td>\n",
       "      <td>NaN</td>\n",
       "      <td>alfa-romero</td>\n",
       "      <td>gas</td>\n",
       "      <td>std</td>\n",
       "      <td>two</td>\n",
       "      <td>convertible</td>\n",
       "      <td>rwd</td>\n",
       "      <td>front</td>\n",
       "      <td>88.6</td>\n",
       "      <td>...</td>\n",
       "      <td>130</td>\n",
       "      <td>mpfi</td>\n",
       "      <td>3.47</td>\n",
       "      <td>2.68</td>\n",
       "      <td>9.0</td>\n",
       "      <td>111.0</td>\n",
       "      <td>5000.0</td>\n",
       "      <td>21</td>\n",
       "      <td>27</td>\n",
       "      <td>16500.0</td>\n",
       "    </tr>\n",
       "    <tr>\n",
       "      <th>2</th>\n",
       "      <td>1</td>\n",
       "      <td>NaN</td>\n",
       "      <td>alfa-romero</td>\n",
       "      <td>gas</td>\n",
       "      <td>std</td>\n",
       "      <td>two</td>\n",
       "      <td>hatchback</td>\n",
       "      <td>rwd</td>\n",
       "      <td>front</td>\n",
       "      <td>94.5</td>\n",
       "      <td>...</td>\n",
       "      <td>152</td>\n",
       "      <td>mpfi</td>\n",
       "      <td>2.68</td>\n",
       "      <td>3.47</td>\n",
       "      <td>9.0</td>\n",
       "      <td>154.0</td>\n",
       "      <td>5000.0</td>\n",
       "      <td>19</td>\n",
       "      <td>26</td>\n",
       "      <td>16500.0</td>\n",
       "    </tr>\n",
       "    <tr>\n",
       "      <th>3</th>\n",
       "      <td>2</td>\n",
       "      <td>164.0</td>\n",
       "      <td>audi</td>\n",
       "      <td>gas</td>\n",
       "      <td>std</td>\n",
       "      <td>four</td>\n",
       "      <td>sedan</td>\n",
       "      <td>fwd</td>\n",
       "      <td>front</td>\n",
       "      <td>99.8</td>\n",
       "      <td>...</td>\n",
       "      <td>109</td>\n",
       "      <td>mpfi</td>\n",
       "      <td>3.19</td>\n",
       "      <td>3.40</td>\n",
       "      <td>10.0</td>\n",
       "      <td>102.0</td>\n",
       "      <td>5500.0</td>\n",
       "      <td>24</td>\n",
       "      <td>30</td>\n",
       "      <td>13950.0</td>\n",
       "    </tr>\n",
       "    <tr>\n",
       "      <th>4</th>\n",
       "      <td>2</td>\n",
       "      <td>164.0</td>\n",
       "      <td>audi</td>\n",
       "      <td>gas</td>\n",
       "      <td>std</td>\n",
       "      <td>four</td>\n",
       "      <td>sedan</td>\n",
       "      <td>4wd</td>\n",
       "      <td>front</td>\n",
       "      <td>99.4</td>\n",
       "      <td>...</td>\n",
       "      <td>136</td>\n",
       "      <td>mpfi</td>\n",
       "      <td>3.19</td>\n",
       "      <td>3.40</td>\n",
       "      <td>8.0</td>\n",
       "      <td>115.0</td>\n",
       "      <td>5500.0</td>\n",
       "      <td>18</td>\n",
       "      <td>22</td>\n",
       "      <td>17450.0</td>\n",
       "    </tr>\n",
       "  </tbody>\n",
       "</table>\n",
       "<p>5 rows × 26 columns</p>\n",
       "</div>"
      ],
      "text/plain": [
       "   sym  normloss         make fuel_type aspiration no_doors   body_style  \\\n",
       "0    3       NaN  alfa-romero       gas        std      two  convertible   \n",
       "1    3       NaN  alfa-romero       gas        std      two  convertible   \n",
       "2    1       NaN  alfa-romero       gas        std      two    hatchback   \n",
       "3    2     164.0         audi       gas        std     four        sedan   \n",
       "4    2     164.0         audi       gas        std     four        sedan   \n",
       "\n",
       "  drive_wheels engine_location  wheel_base  ...  engine_size  fuel systems  \\\n",
       "0          rwd           front        88.6  ...          130          mpfi   \n",
       "1          rwd           front        88.6  ...          130          mpfi   \n",
       "2          rwd           front        94.5  ...          152          mpfi   \n",
       "3          fwd           front        99.8  ...          109          mpfi   \n",
       "4          4wd           front        99.4  ...          136          mpfi   \n",
       "\n",
       "   bore  stroke compression_ratio horpower  peak_rpm city_mpg  highway_mpg  \\\n",
       "0  3.47    2.68               9.0    111.0    5000.0       21           27   \n",
       "1  3.47    2.68               9.0    111.0    5000.0       21           27   \n",
       "2  2.68    3.47               9.0    154.0    5000.0       19           26   \n",
       "3  3.19    3.40              10.0    102.0    5500.0       24           30   \n",
       "4  3.19    3.40               8.0    115.0    5500.0       18           22   \n",
       "\n",
       "     price  \n",
       "0  13495.0  \n",
       "1  16500.0  \n",
       "2  16500.0  \n",
       "3  13950.0  \n",
       "4  17450.0  \n",
       "\n",
       "[5 rows x 26 columns]"
      ]
     },
     "execution_count": 157,
     "metadata": {},
     "output_type": "execute_result"
    }
   ],
   "source": [
    "am.head(5)"
   ]
  },
  {
   "cell_type": "code",
   "execution_count": 158,
   "id": "d6f68406",
   "metadata": {},
   "outputs": [
    {
     "name": "stdout",
     "output_type": "stream",
     "text": [
      "<class 'pandas.core.frame.DataFrame'>\n",
      "RangeIndex: 205 entries, 0 to 204\n",
      "Data columns (total 26 columns):\n",
      " #   Column             Non-Null Count  Dtype  \n",
      "---  ------             --------------  -----  \n",
      " 0   sym                205 non-null    int64  \n",
      " 1   normloss           164 non-null    float64\n",
      " 2   make               205 non-null    object \n",
      " 3   fuel_type          205 non-null    object \n",
      " 4   aspiration         205 non-null    object \n",
      " 5   no_doors           203 non-null    object \n",
      " 6   body_style         205 non-null    object \n",
      " 7   drive_wheels       205 non-null    object \n",
      " 8   engine_location    205 non-null    object \n",
      " 9   wheel_base         205 non-null    float64\n",
      " 10  length             205 non-null    float64\n",
      " 11  width              205 non-null    float64\n",
      " 12  height             205 non-null    float64\n",
      " 13  curb_weight        205 non-null    int64  \n",
      " 14  engine_type        205 non-null    object \n",
      " 15  no_cylinders       205 non-null    object \n",
      " 16  engine_size        205 non-null    int64  \n",
      " 17  fuel systems       205 non-null    object \n",
      " 18  bore               201 non-null    float64\n",
      " 19  stroke             201 non-null    float64\n",
      " 20  compression_ratio  205 non-null    float64\n",
      " 21  horpower           203 non-null    float64\n",
      " 22  peak_rpm           203 non-null    float64\n",
      " 23  city_mpg           205 non-null    int64  \n",
      " 24  highway_mpg        205 non-null    int64  \n",
      " 25  price              201 non-null    float64\n",
      "dtypes: float64(11), int64(5), object(10)\n",
      "memory usage: 41.8+ KB\n"
     ]
    }
   ],
   "source": [
    "am.info()"
   ]
  },
  {
   "cell_type": "code",
   "execution_count": 159,
   "id": "bb3c7352",
   "metadata": {},
   "outputs": [
    {
     "data": {
      "text/plain": [
       "sym                   0\n",
       "normloss             41\n",
       "make                  0\n",
       "fuel_type             0\n",
       "aspiration            0\n",
       "no_doors              2\n",
       "body_style            0\n",
       "drive_wheels          0\n",
       "engine_location       0\n",
       "wheel_base            0\n",
       "length                0\n",
       "width                 0\n",
       "height                0\n",
       "curb_weight           0\n",
       "engine_type           0\n",
       "no_cylinders          0\n",
       "engine_size           0\n",
       "fuel systems          0\n",
       "bore                  4\n",
       "stroke                4\n",
       "compression_ratio     0\n",
       "horpower              2\n",
       "peak_rpm              2\n",
       "city_mpg              0\n",
       "highway_mpg           0\n",
       "price                 4\n",
       "dtype: int64"
      ]
     },
     "execution_count": 159,
     "metadata": {},
     "output_type": "execute_result"
    }
   ],
   "source": [
    "am.isnull().sum()"
   ]
  },
  {
   "cell_type": "markdown",
   "id": "e20b756f",
   "metadata": {},
   "source": [
    "filling null values by using mean values if conti else mode\n"
   ]
  },
  {
   "cell_type": "code",
   "execution_count": 160,
   "id": "5eaa675b",
   "metadata": {},
   "outputs": [],
   "source": [
    "am.normloss.fillna(am.normloss.mean(),inplace = True)"
   ]
  },
  {
   "cell_type": "code",
   "execution_count": 161,
   "id": "524102be",
   "metadata": {},
   "outputs": [],
   "source": [
    "am.no_doors.fillna(am.no_doors.mode().max(),inplace = True)"
   ]
  },
  {
   "cell_type": "code",
   "execution_count": 162,
   "id": "492ccea7",
   "metadata": {},
   "outputs": [],
   "source": [
    "am.bore.fillna(am.bore.mean(),inplace = True)"
   ]
  },
  {
   "cell_type": "code",
   "execution_count": 163,
   "id": "da361432",
   "metadata": {},
   "outputs": [],
   "source": [
    "am.stroke.fillna(am.stroke.mean(),inplace = True)"
   ]
  },
  {
   "cell_type": "code",
   "execution_count": 164,
   "id": "23614a39",
   "metadata": {},
   "outputs": [],
   "source": [
    "am.horpower.fillna(am.horpower.mean(),inplace = True)"
   ]
  },
  {
   "cell_type": "code",
   "execution_count": 165,
   "id": "2f896f58",
   "metadata": {},
   "outputs": [],
   "source": [
    "am.peak_rpm.fillna(am.peak_rpm.mean(),inplace = True)"
   ]
  },
  {
   "cell_type": "code",
   "execution_count": 166,
   "id": "98dddd8d",
   "metadata": {},
   "outputs": [],
   "source": [
    "am.price.fillna(am.price.mean(),inplace = True)"
   ]
  },
  {
   "cell_type": "markdown",
   "id": "d0fa27c9",
   "metadata": {},
   "source": [
    "checking null values after filling"
   ]
  },
  {
   "cell_type": "code",
   "execution_count": 167,
   "id": "f3285d9e",
   "metadata": {},
   "outputs": [
    {
     "data": {
      "text/plain": [
       "sym                  0\n",
       "normloss             0\n",
       "make                 0\n",
       "fuel_type            0\n",
       "aspiration           0\n",
       "no_doors             0\n",
       "body_style           0\n",
       "drive_wheels         0\n",
       "engine_location      0\n",
       "wheel_base           0\n",
       "length               0\n",
       "width                0\n",
       "height               0\n",
       "curb_weight          0\n",
       "engine_type          0\n",
       "no_cylinders         0\n",
       "engine_size          0\n",
       "fuel systems         0\n",
       "bore                 0\n",
       "stroke               0\n",
       "compression_ratio    0\n",
       "horpower             0\n",
       "peak_rpm             0\n",
       "city_mpg             0\n",
       "highway_mpg          0\n",
       "price                0\n",
       "dtype: int64"
      ]
     },
     "execution_count": 167,
     "metadata": {},
     "output_type": "execute_result"
    }
   ],
   "source": [
    "am.isnull().sum()"
   ]
  },
  {
   "cell_type": "markdown",
   "id": "efc2f734",
   "metadata": {},
   "source": [
    "<h2> column 1 </h2>"
   ]
  },
  {
   "cell_type": "code",
   "execution_count": 168,
   "id": "080f79d1",
   "metadata": {},
   "outputs": [
    {
     "data": {
      "text/plain": [
       "count    205.000000\n",
       "mean       0.834146\n",
       "std        1.245307\n",
       "min       -2.000000\n",
       "25%        0.000000\n",
       "50%        1.000000\n",
       "75%        2.000000\n",
       "max        3.000000\n",
       "Name: sym, dtype: float64"
      ]
     },
     "execution_count": 168,
     "metadata": {},
     "output_type": "execute_result"
    }
   ],
   "source": [
    "am.sym.describe()"
   ]
  },
  {
   "cell_type": "code",
   "execution_count": 169,
   "id": "08a9259e",
   "metadata": {},
   "outputs": [
    {
     "data": {
      "text/plain": [
       "array([ 3,  1,  2,  0, -1, -2], dtype=int64)"
      ]
     },
     "execution_count": 169,
     "metadata": {},
     "output_type": "execute_result"
    }
   ],
   "source": [
    "am.sym.unique()"
   ]
  },
  {
   "cell_type": "code",
   "execution_count": 170,
   "id": "b4e41a23",
   "metadata": {},
   "outputs": [
    {
     "data": {
      "text/plain": [
       "<AxesSubplot:xlabel='sym', ylabel='count'>"
      ]
     },
     "execution_count": 170,
     "metadata": {},
     "output_type": "execute_result"
    },
    {
     "data": {
      "image/png": "[encoded data removed]",
      "text/plain": [
       "<Figure size 432x288 with 1 Axes>"
      ]
     },
     "metadata": {
      "needs_background": "light"
     },
     "output_type": "display_data"
    }
   ],
   "source": [
    "sns.countplot(x ='sym',data=am)"
   ]
  },
  {
   "cell_type": "markdown",
   "id": "2917e7a9",
   "metadata": {},
   "source": [
    "<h3> column 2 </h3>"
   ]
  },
  {
   "cell_type": "code",
   "execution_count": 171,
   "id": "bcf8ab4c",
   "metadata": {},
   "outputs": [
    {
     "data": {
      "text/plain": [
       "count    205.000000\n",
       "mean     122.000000\n",
       "std       31.681008\n",
       "min       65.000000\n",
       "25%      101.000000\n",
       "50%      122.000000\n",
       "75%      137.000000\n",
       "max      256.000000\n",
       "Name: normloss, dtype: float64"
      ]
     },
     "execution_count": 171,
     "metadata": {},
     "output_type": "execute_result"
    }
   ],
   "source": [
    "am.normloss.describe()"
   ]
  },
  {
   "cell_type": "code",
   "execution_count": 172,
   "id": "aae16bbb",
   "metadata": {},
   "outputs": [
    {
     "data": {
      "text/plain": [
       "{'whiskers': [<matplotlib.lines.Line2D at 0x235c0f70e50>,\n",
       "  <matplotlib.lines.Line2D at 0x235c0f7e220>],\n",
       " 'caps': [<matplotlib.lines.Line2D at 0x235c0f7e5b0>,\n",
       "  <matplotlib.lines.Line2D at 0x235c0f7e940>],\n",
       " 'boxes': [<matplotlib.lines.Line2D at 0x235c0f70ac0>],\n",
       " 'medians': [<matplotlib.lines.Line2D at 0x235c0f7ecd0>],\n",
       " 'fliers': [<matplotlib.lines.Line2D at 0x235c0f8a040>],\n",
       " 'means': []}"
      ]
     },
     "execution_count": 172,
     "metadata": {},
     "output_type": "execute_result"
    },
    {
     "data": {
      "image/png": "[encoded data removed]",
      "text/plain": [
       "<Figure size 432x288 with 1 Axes>"
      ]
     },
     "metadata": {
      "needs_background": "light"
     },
     "output_type": "display_data"
    }
   ],
   "source": [
    "plt.boxplot(am.normloss)"
   ]
  },
  {
   "cell_type": "code",
   "execution_count": 173,
   "id": "e83edb32",
   "metadata": {},
   "outputs": [
    {
     "data": {
      "text/plain": [
       "36.0"
      ]
     },
     "execution_count": 173,
     "metadata": {},
     "output_type": "execute_result"
    }
   ],
   "source": [
    "q3 = am.normloss.quantile(0.75)\n",
    "q1 = am.normloss.quantile(0.25)\n",
    "iqr = q3 - q1\n",
    "iqr"
   ]
  },
  {
   "cell_type": "code",
   "execution_count": 174,
   "id": "fa07d38c",
   "metadata": {},
   "outputs": [
    {
     "name": "stdout",
     "output_type": "stream",
     "text": [
      "191.0\n"
     ]
    }
   ],
   "source": [
    "ue = q3+1.5*(iqr)\n",
    "print(ue)"
   ]
  },
  {
   "cell_type": "code",
   "execution_count": 175,
   "id": "0246b64e",
   "metadata": {},
   "outputs": [
    {
     "name": "stdout",
     "output_type": "stream",
     "text": [
      "47.0\n"
     ]
    }
   ],
   "source": [
    "le = q1-1.5*(iqr)\n",
    "print(le)"
   ]
  },
  {
   "cell_type": "markdown",
   "id": "baf6cbe0",
   "metadata": {},
   "source": [
    "<h2> column 3 </h2>"
   ]
  },
  {
   "cell_type": "code",
   "execution_count": 176,
   "id": "fcd31a5f",
   "metadata": {},
   "outputs": [
    {
     "data": {
      "text/plain": [
       "count        205\n",
       "unique        22\n",
       "top       toyota\n",
       "freq          32\n",
       "Name: make, dtype: object"
      ]
     },
     "execution_count": 176,
     "metadata": {},
     "output_type": "execute_result"
    }
   ],
   "source": [
    "am.make.describe()"
   ]
  },
  {
   "cell_type": "code",
   "execution_count": 177,
   "id": "e441b445",
   "metadata": {},
   "outputs": [
    {
     "data": {
      "text/plain": [
       "<AxesSubplot:xlabel='make', ylabel='count'>"
      ]
     },
     "execution_count": 177,
     "metadata": {},
     "output_type": "execute_result"
    },
    {
     "data": {
      "image/png": "[encoded data removed]",
      "text/plain": [
       "<Figure size 1800x1800 with 1 Axes>"
      ]
     },
     "metadata": {
      "needs_background": "light"
     },
     "output_type": "display_data"
    }
   ],
   "source": [
    "plt.figure(figsize=(25,25))\n",
    "sns.countplot(x='make',data=am)"
   ]
  },
  {
   "cell_type": "markdown",
   "id": "6f27791d",
   "metadata": {},
   "source": [
    "<h2> column 4 </h2>"
   ]
  },
  {
   "cell_type": "code",
   "execution_count": 178,
   "id": "18ff78d1",
   "metadata": {},
   "outputs": [
    {
     "data": {
      "text/plain": [
       "0"
      ]
     },
     "execution_count": 178,
     "metadata": {},
     "output_type": "execute_result"
    }
   ],
   "source": [
    "am.fuel_type.isnull().sum()"
   ]
  },
  {
   "cell_type": "code",
   "execution_count": 179,
   "id": "d4655cab",
   "metadata": {},
   "outputs": [
    {
     "data": {
      "text/plain": [
       "count     205\n",
       "unique      2\n",
       "top       gas\n",
       "freq      185\n",
       "Name: fuel_type, dtype: object"
      ]
     },
     "execution_count": 179,
     "metadata": {},
     "output_type": "execute_result"
    }
   ],
   "source": [
    "am.fuel_type.describe()"
   ]
  },
  {
   "cell_type": "code",
   "execution_count": 180,
   "id": "544a0cee",
   "metadata": {},
   "outputs": [
    {
     "data": {
      "text/plain": [
       "<AxesSubplot:xlabel='fuel_type', ylabel='count'>"
      ]
     },
     "execution_count": 180,
     "metadata": {},
     "output_type": "execute_result"
    },
    {
     "data": {
      "image/png": "[encoded data removed]",
      "text/plain": [
       "<Figure size 432x288 with 1 Axes>"
      ]
     },
     "metadata": {
      "needs_background": "light"
     },
     "output_type": "display_data"
    }
   ],
   "source": [
    "sns.countplot(x = 'fuel_type',data = am)"
   ]
  },
  {
   "cell_type": "markdown",
   "id": "de68a6c8",
   "metadata": {},
   "source": [
    "<h2> column 5 </h2>"
   ]
  },
  {
   "cell_type": "code",
   "execution_count": 181,
   "id": "0cfc4d37",
   "metadata": {},
   "outputs": [
    {
     "data": {
      "text/plain": [
       "count     205\n",
       "unique      2\n",
       "top       std\n",
       "freq      168\n",
       "Name: aspiration, dtype: object"
      ]
     },
     "execution_count": 181,
     "metadata": {},
     "output_type": "execute_result"
    }
   ],
   "source": [
    "am.aspiration.describe()"
   ]
  },
  {
   "cell_type": "code",
   "execution_count": 182,
   "id": "f94e534a",
   "metadata": {},
   "outputs": [
    {
     "data": {
      "text/plain": [
       "0"
      ]
     },
     "execution_count": 182,
     "metadata": {},
     "output_type": "execute_result"
    }
   ],
   "source": [
    "am.aspiration.isnull().sum()"
   ]
  },
  {
   "cell_type": "code",
   "execution_count": 183,
   "id": "789b8bd7",
   "metadata": {},
   "outputs": [
    {
     "data": {
      "text/plain": [
       "<AxesSubplot:xlabel='aspiration', ylabel='count'>"
      ]
     },
     "execution_count": 183,
     "metadata": {},
     "output_type": "execute_result"
    },
    {
     "data": {
      "image/png": "[encoded data removed]",
      "text/plain": [
       "<Figure size 432x288 with 1 Axes>"
      ]
     },
     "metadata": {
      "needs_background": "light"
     },
     "output_type": "display_data"
    }
   ],
   "source": [
    "sns.countplot(x='aspiration',data=am)"
   ]
  },
  {
   "cell_type": "markdown",
   "id": "bc2f4d0e",
   "metadata": {},
   "source": [
    "<h2> column 6 </h2>"
   ]
  },
  {
   "cell_type": "code",
   "execution_count": 184,
   "id": "cda56b98",
   "metadata": {},
   "outputs": [
    {
     "data": {
      "text/plain": [
       "count      205\n",
       "unique       2\n",
       "top       four\n",
       "freq       116\n",
       "Name: no_doors, dtype: object"
      ]
     },
     "execution_count": 184,
     "metadata": {},
     "output_type": "execute_result"
    }
   ],
   "source": [
    "am.no_doors.describe()"
   ]
  },
  {
   "cell_type": "code",
   "execution_count": 185,
   "id": "89102815",
   "metadata": {},
   "outputs": [
    {
     "data": {
      "text/plain": [
       "0"
      ]
     },
     "execution_count": 185,
     "metadata": {},
     "output_type": "execute_result"
    }
   ],
   "source": [
    "am.no_doors.isnull().sum()"
   ]
  },
  {
   "cell_type": "code",
   "execution_count": 186,
   "id": "70afe43d",
   "metadata": {},
   "outputs": [
    {
     "data": {
      "text/plain": [
       "<AxesSubplot:xlabel='no_doors', ylabel='count'>"
      ]
     },
     "execution_count": 186,
     "metadata": {},
     "output_type": "execute_result"
    },
    {
     "data": {
      "image/png": "[encoded data removed]",
      "text/plain": [
       "<Figure size 432x288 with 1 Axes>"
      ]
     },
     "metadata": {
      "needs_background": "light"
     },
     "output_type": "display_data"
    }
   ],
   "source": [
    "sns.countplot(x='no_doors',data=am)"
   ]
  },
  {
   "cell_type": "markdown",
   "id": "0d98b88c",
   "metadata": {},
   "source": [
    "<h2> column 7 </h2>"
   ]
  },
  {
   "cell_type": "code",
   "execution_count": 187,
   "id": "de9eda6e",
   "metadata": {},
   "outputs": [
    {
     "data": {
      "text/plain": [
       "count       205\n",
       "unique        5\n",
       "top       sedan\n",
       "freq         96\n",
       "Name: body_style, dtype: object"
      ]
     },
     "execution_count": 187,
     "metadata": {},
     "output_type": "execute_result"
    }
   ],
   "source": [
    "am.body_style.describe()"
   ]
  },
  {
   "cell_type": "code",
   "execution_count": 188,
   "id": "7b0d35e0",
   "metadata": {},
   "outputs": [
    {
     "data": {
      "text/plain": [
       "0"
      ]
     },
     "execution_count": 188,
     "metadata": {},
     "output_type": "execute_result"
    }
   ],
   "source": [
    "am.body_style.isnull().sum()"
   ]
  },
  {
   "cell_type": "code",
   "execution_count": 189,
   "id": "d71174fe",
   "metadata": {},
   "outputs": [
    {
     "data": {
      "text/plain": [
       "<AxesSubplot:xlabel='body_style', ylabel='count'>"
      ]
     },
     "execution_count": 189,
     "metadata": {},
     "output_type": "execute_result"
    },
    {
     "data": {
      "image/png": "[encoded data removed]",
      "text/plain": [
       "<Figure size 432x288 with 1 Axes>"
      ]
     },
     "metadata": {
      "needs_background": "light"
     },
     "output_type": "display_data"
    }
   ],
   "source": [
    "sns.countplot(x='body_style',data = am)"
   ]
  },
  {
   "cell_type": "markdown",
   "id": "27f58052",
   "metadata": {},
   "source": [
    "<h2> column 8 </h2>"
   ]
  },
  {
   "cell_type": "code",
   "execution_count": 190,
   "id": "981946fd",
   "metadata": {},
   "outputs": [
    {
     "data": {
      "text/plain": [
       "count     205\n",
       "unique      3\n",
       "top       fwd\n",
       "freq      120\n",
       "Name: drive_wheels, dtype: object"
      ]
     },
     "execution_count": 190,
     "metadata": {},
     "output_type": "execute_result"
    }
   ],
   "source": [
    "am.drive_wheels.describe()"
   ]
  },
  {
   "cell_type": "code",
   "execution_count": 191,
   "id": "74b9f96b",
   "metadata": {},
   "outputs": [
    {
     "data": {
      "text/plain": [
       "<AxesSubplot:xlabel='drive_wheels', ylabel='count'>"
      ]
     },
     "execution_count": 191,
     "metadata": {},
     "output_type": "execute_result"
    },
    {
     "data": {
      "image/png": "[encoded data removed]",
      "text/plain": [
       "<Figure size 432x288 with 1 Axes>"
      ]
     },
     "metadata": {
      "needs_background": "light"
     },
     "output_type": "display_data"
    }
   ],
   "source": [
    "sns.countplot(x='drive_wheels',data = am)"
   ]
  },
  {
   "cell_type": "markdown",
   "id": "cd53bb92",
   "metadata": {},
   "source": [
    "<h2> column 9 </h2>"
   ]
  },
  {
   "cell_type": "code",
   "execution_count": 192,
   "id": "0be99866",
   "metadata": {},
   "outputs": [
    {
     "data": {
      "text/plain": [
       "count       205\n",
       "unique        2\n",
       "top       front\n",
       "freq        202\n",
       "Name: engine_location, dtype: object"
      ]
     },
     "execution_count": 192,
     "metadata": {},
     "output_type": "execute_result"
    }
   ],
   "source": [
    "am.engine_location.describe()"
   ]
  },
  {
   "cell_type": "code",
   "execution_count": 193,
   "id": "19d88ff3",
   "metadata": {},
   "outputs": [
    {
     "data": {
      "text/plain": [
       "<AxesSubplot:xlabel='engine_location', ylabel='count'>"
      ]
     },
     "execution_count": 193,
     "metadata": {},
     "output_type": "execute_result"
    },
    {
     "data": {
      "image/png": "[encoded data removed]",
      "text/plain": [
       "<Figure size 432x288 with 1 Axes>"
      ]
     },
     "metadata": {
      "needs_background": "light"
     },
     "output_type": "display_data"
    }
   ],
   "source": [
    "sns.countplot(x='engine_location',data=am)"
   ]
  },
  {
   "cell_type": "markdown",
   "id": "09db2adc",
   "metadata": {},
   "source": [
    "<h2> column 10 </h2>"
   ]
  },
  {
   "cell_type": "code",
   "execution_count": 194,
   "id": "8db5335a",
   "metadata": {},
   "outputs": [
    {
     "data": {
      "text/plain": [
       "0"
      ]
     },
     "execution_count": 194,
     "metadata": {},
     "output_type": "execute_result"
    }
   ],
   "source": [
    "am.wheel_base.isnull().sum()"
   ]
  },
  {
   "cell_type": "code",
   "execution_count": 195,
   "id": "4d152be8",
   "metadata": {},
   "outputs": [
    {
     "data": {
      "text/plain": [
       "{'whiskers': [<matplotlib.lines.Line2D at 0x235c12afd60>,\n",
       "  <matplotlib.lines.Line2D at 0x235c12be130>],\n",
       " 'caps': [<matplotlib.lines.Line2D at 0x235c12be4c0>,\n",
       "  <matplotlib.lines.Line2D at 0x235c12be850>],\n",
       " 'boxes': [<matplotlib.lines.Line2D at 0x235c12afa90>],\n",
       " 'medians': [<matplotlib.lines.Line2D at 0x235c12bebe0>],\n",
       " 'fliers': [<matplotlib.lines.Line2D at 0x235c12bef70>],\n",
       " 'means': []}"
      ]
     },
     "execution_count": 195,
     "metadata": {},
     "output_type": "execute_result"
    },
    {
     "data": {
      "image/png": "[encoded data removed]",
      "text/plain": [
       "<Figure size 432x288 with 1 Axes>"
      ]
     },
     "metadata": {
      "needs_background": "light"
     },
     "output_type": "display_data"
    }
   ],
   "source": [
    "plt.boxplot(am.wheel_base)"
   ]
  },
  {
   "cell_type": "markdown",
   "id": "7678d754",
   "metadata": {},
   "source": [
    "<h2> column 11 </h2>"
   ]
  },
  {
   "cell_type": "code",
   "execution_count": 196,
   "id": "7becee09",
   "metadata": {},
   "outputs": [
    {
     "data": {
      "text/plain": [
       "count    205.000000\n",
       "mean     174.049268\n",
       "std       12.337289\n",
       "min      141.100000\n",
       "25%      166.300000\n",
       "50%      173.200000\n",
       "75%      183.100000\n",
       "max      208.100000\n",
       "Name: length, dtype: float64"
      ]
     },
     "execution_count": 196,
     "metadata": {},
     "output_type": "execute_result"
    }
   ],
   "source": [
    "am.length.describe()"
   ]
  },
  {
   "cell_type": "code",
   "execution_count": 197,
   "id": "933edf0c",
   "metadata": {},
   "outputs": [
    {
     "data": {
      "text/plain": [
       "{'whiskers': [<matplotlib.lines.Line2D at 0x235c1326580>,\n",
       "  <matplotlib.lines.Line2D at 0x235c1326910>],\n",
       " 'caps': [<matplotlib.lines.Line2D at 0x235c1326ca0>,\n",
       "  <matplotlib.lines.Line2D at 0x235c1333070>],\n",
       " 'boxes': [<matplotlib.lines.Line2D at 0x235c13261f0>],\n",
       " 'medians': [<matplotlib.lines.Line2D at 0x235c1333400>],\n",
       " 'fliers': [<matplotlib.lines.Line2D at 0x235c1333790>],\n",
       " 'means': []}"
      ]
     },
     "execution_count": 197,
     "metadata": {},
     "output_type": "execute_result"
    },
    {
     "data": {
      "image/png": "[encoded data removed]",
      "text/plain": [
       "<Figure size 432x288 with 1 Axes>"
      ]
     },
     "metadata": {
      "needs_background": "light"
     },
     "output_type": "display_data"
    }
   ],
   "source": [
    "plt.boxplot(am.length)"
   ]
  },
  {
   "cell_type": "code",
   "execution_count": 198,
   "id": "ff9f079f",
   "metadata": {},
   "outputs": [
    {
     "name": "stdout",
     "output_type": "stream",
     "text": [
      "<class 'pandas.core.frame.DataFrame'>\n",
      "RangeIndex: 205 entries, 0 to 204\n",
      "Data columns (total 26 columns):\n",
      " #   Column             Non-Null Count  Dtype  \n",
      "---  ------             --------------  -----  \n",
      " 0   sym                205 non-null    int64  \n",
      " 1   normloss           205 non-null    float64\n",
      " 2   make               205 non-null    object \n",
      " 3   fuel_type          205 non-null    object \n",
      " 4   aspiration         205 non-null    object \n",
      " 5   no_doors           205 non-null    object \n",
      " 6   body_style         205 non-null    object \n",
      " 7   drive_wheels       205 non-null    object \n",
      " 8   engine_location    205 non-null    object \n",
      " 9   wheel_base         205 non-null    float64\n",
      " 10  length             205 non-null    float64\n",
      " 11  width              205 non-null    float64\n",
      " 12  height             205 non-null    float64\n",
      " 13  curb_weight        205 non-null    int64  \n",
      " 14  engine_type        205 non-null    object \n",
      " 15  no_cylinders       205 non-null    object \n",
      " 16  engine_size        205 non-null    int64  \n",
      " 17  fuel systems       205 non-null    object \n",
      " 18  bore               205 non-null    float64\n",
      " 19  stroke             205 non-null    float64\n",
      " 20  compression_ratio  205 non-null    float64\n",
      " 21  horpower           205 non-null    float64\n",
      " 22  peak_rpm           205 non-null    float64\n",
      " 23  city_mpg           205 non-null    int64  \n",
      " 24  highway_mpg        205 non-null    int64  \n",
      " 25  price              205 non-null    float64\n",
      "dtypes: float64(11), int64(5), object(10)\n",
      "memory usage: 41.8+ KB\n"
     ]
    }
   ],
   "source": [
    "am.info()"
   ]
  },
  {
   "cell_type": "code",
   "execution_count": 199,
   "id": "d378d9e4",
   "metadata": {},
   "outputs": [
    {
     "data": {
      "text/plain": [
       "{'whiskers': [<matplotlib.lines.Line2D at 0x235c13918b0>,\n",
       "  <matplotlib.lines.Line2D at 0x235c1391c40>],\n",
       " 'caps': [<matplotlib.lines.Line2D at 0x235c1391fd0>,\n",
       "  <matplotlib.lines.Line2D at 0x235c139b3a0>],\n",
       " 'boxes': [<matplotlib.lines.Line2D at 0x235c1391520>],\n",
       " 'medians': [<matplotlib.lines.Line2D at 0x235c139b730>],\n",
       " 'fliers': [<matplotlib.lines.Line2D at 0x235c139bac0>],\n",
       " 'means': []}"
      ]
     },
     "execution_count": 199,
     "metadata": {},
     "output_type": "execute_result"
    },
    {
     "data": {
      "image/png": "[encoded data removed]",
      "text/plain": [
       "<Figure size 432x288 with 1 Axes>"
      ]
     },
     "metadata": {
      "needs_background": "light"
     },
     "output_type": "display_data"
    }
   ],
   "source": [
    "plt.boxplot(am.width)"
   ]
  },
  {
   "cell_type": "code",
   "execution_count": 200,
   "id": "081a3c33",
   "metadata": {},
   "outputs": [
    {
     "data": {
      "text/plain": [
       "{'whiskers': [<matplotlib.lines.Line2D at 0x235c13fc790>,\n",
       "  <matplotlib.lines.Line2D at 0x235c13fcb20>],\n",
       " 'caps': [<matplotlib.lines.Line2D at 0x235c13fceb0>,\n",
       "  <matplotlib.lines.Line2D at 0x235c1407280>],\n",
       " 'boxes': [<matplotlib.lines.Line2D at 0x235c13fc400>],\n",
       " 'medians': [<matplotlib.lines.Line2D at 0x235c1407610>],\n",
       " 'fliers': [<matplotlib.lines.Line2D at 0x235c14079a0>],\n",
       " 'means': []}"
      ]
     },
     "execution_count": 200,
     "metadata": {},
     "output_type": "execute_result"
    },
    {
     "data": {
      "image/png": "[encoded data removed]",
      "text/plain": [
       "<Figure size 432x288 with 1 Axes>"
      ]
     },
     "metadata": {
      "needs_background": "light"
     },
     "output_type": "display_data"
    }
   ],
   "source": [
    "plt.boxplot(am.height)"
   ]
  },
  {
   "cell_type": "code",
   "execution_count": 201,
   "id": "7d4bfa1b",
   "metadata": {},
   "outputs": [
    {
     "data": {
      "text/plain": [
       "{'whiskers': [<matplotlib.lines.Line2D at 0x235c14636a0>,\n",
       "  <matplotlib.lines.Line2D at 0x235c1463a30>],\n",
       " 'caps': [<matplotlib.lines.Line2D at 0x235c1463dc0>,\n",
       "  <matplotlib.lines.Line2D at 0x235c1470190>],\n",
       " 'boxes': [<matplotlib.lines.Line2D at 0x235c1463370>],\n",
       " 'medians': [<matplotlib.lines.Line2D at 0x235c1470520>],\n",
       " 'fliers': [<matplotlib.lines.Line2D at 0x235c14708b0>],\n",
       " 'means': []}"
      ]
     },
     "execution_count": 201,
     "metadata": {},
     "output_type": "execute_result"
    },
    {
     "data": {
      "image/png": "[encoded data removed]",
      "text/plain": [
       "<Figure size 432x288 with 1 Axes>"
      ]
     },
     "metadata": {
      "needs_background": "light"
     },
     "output_type": "display_data"
    }
   ],
   "source": [
    "plt.boxplot(am.curb_weight)"
   ]
  },
  {
   "cell_type": "code",
   "execution_count": 202,
   "id": "e3195ca9",
   "metadata": {},
   "outputs": [
    {
     "data": {
      "text/plain": [
       "<AxesSubplot:xlabel='engine_type', ylabel='count'>"
      ]
     },
     "execution_count": 202,
     "metadata": {},
     "output_type": "execute_result"
    },
    {
     "data": {
      "image/png": "[encoded data removed]",
      "text/plain": [
       "<Figure size 432x288 with 1 Axes>"
      ]
     },
     "metadata": {
      "needs_background": "light"
     },
     "output_type": "display_data"
    }
   ],
   "source": [
    "sns.countplot(x='engine_type',data=am)"
   ]
  },
  {
   "cell_type": "code",
   "execution_count": 203,
   "id": "72db5aa6",
   "metadata": {},
   "outputs": [
    {
     "data": {
      "text/plain": [
       "<AxesSubplot:xlabel='no_cylinders', ylabel='count'>"
      ]
     },
     "execution_count": 203,
     "metadata": {},
     "output_type": "execute_result"
    },
    {
     "data": {
      "image/png": "[encoded data removed]",
      "text/plain": [
       "<Figure size 432x288 with 1 Axes>"
      ]
     },
     "metadata": {
      "needs_background": "light"
     },
     "output_type": "display_data"
    }
   ],
   "source": [
    "sns.countplot(x='no_cylinders',data = am)"
   ]
  },
  {
   "cell_type": "code",
   "execution_count": 204,
   "id": "1a73c9f8",
   "metadata": {},
   "outputs": [
    {
     "data": {
      "text/plain": [
       "{'whiskers': [<matplotlib.lines.Line2D at 0x235c15accd0>,\n",
       "  <matplotlib.lines.Line2D at 0x235c15acfa0>],\n",
       " 'caps': [<matplotlib.lines.Line2D at 0x235c15bc310>,\n",
       "  <matplotlib.lines.Line2D at 0x235c15bc6a0>],\n",
       " 'boxes': [<matplotlib.lines.Line2D at 0x235c15ac940>],\n",
       " 'medians': [<matplotlib.lines.Line2D at 0x235c15bca30>],\n",
       " 'fliers': [<matplotlib.lines.Line2D at 0x235c15bcdc0>],\n",
       " 'means': []}"
      ]
     },
     "execution_count": 204,
     "metadata": {},
     "output_type": "execute_result"
    },
    {
     "data": {
      "image/png": "[encoded data removed]",
      "text/plain": [
       "<Figure size 432x288 with 1 Axes>"
      ]
     },
     "metadata": {
      "needs_background": "light"
     },
     "output_type": "display_data"
    }
   ],
   "source": [
    "plt.boxplot(am.engine_size)"
   ]
  },
  {
   "cell_type": "code",
   "execution_count": 205,
   "id": "81f7eba0",
   "metadata": {},
   "outputs": [
    {
     "data": {
      "text/plain": [
       "<AxesSubplot:xlabel='fuel systems', ylabel='count'>"
      ]
     },
     "execution_count": 205,
     "metadata": {},
     "output_type": "execute_result"
    },
    {
     "data": {
      "image/png": "[encoded data removed]",
      "text/plain": [
       "<Figure size 432x288 with 1 Axes>"
      ]
     },
     "metadata": {
      "needs_background": "light"
     },
     "output_type": "display_data"
    }
   ],
   "source": [
    "sns.countplot(x='fuel systems',data=am)"
   ]
  },
  {
   "cell_type": "code",
   "execution_count": 206,
   "id": "8c792cd0",
   "metadata": {},
   "outputs": [
    {
     "data": {
      "text/plain": [
       "{'whiskers': [<matplotlib.lines.Line2D at 0x235c1685b20>,\n",
       "  <matplotlib.lines.Line2D at 0x235c1685eb0>],\n",
       " 'caps': [<matplotlib.lines.Line2D at 0x235c1694280>,\n",
       "  <matplotlib.lines.Line2D at 0x235c1694610>],\n",
       " 'boxes': [<matplotlib.lines.Line2D at 0x235c1685790>],\n",
       " 'medians': [<matplotlib.lines.Line2D at 0x235c16949a0>],\n",
       " 'fliers': [<matplotlib.lines.Line2D at 0x235c1694d30>],\n",
       " 'means': []}"
      ]
     },
     "execution_count": 206,
     "metadata": {},
     "output_type": "execute_result"
    },
    {
     "data": {
      "image/png": "[encoded data removed]",
      "text/plain": [
       "<Figure size 432x288 with 1 Axes>"
      ]
     },
     "metadata": {
      "needs_background": "light"
     },
     "output_type": "display_data"
    }
   ],
   "source": [
    "plt.boxplot(am.bore)"
   ]
  },
  {
   "cell_type": "code",
   "execution_count": 207,
   "id": "1f5930d2",
   "metadata": {},
   "outputs": [
    {
     "data": {
      "text/plain": [
       "{'whiskers': [<matplotlib.lines.Line2D at 0x235c16ecf70>,\n",
       "  <matplotlib.lines.Line2D at 0x235c16fb340>],\n",
       " 'caps': [<matplotlib.lines.Line2D at 0x235c16fb6d0>,\n",
       "  <matplotlib.lines.Line2D at 0x235c16fba60>],\n",
       " 'boxes': [<matplotlib.lines.Line2D at 0x235c16ecbe0>],\n",
       " 'medians': [<matplotlib.lines.Line2D at 0x235c16fbdf0>],\n",
       " 'fliers': [<matplotlib.lines.Line2D at 0x235c17091c0>],\n",
       " 'means': []}"
      ]
     },
     "execution_count": 207,
     "metadata": {},
     "output_type": "execute_result"
    },
    {
     "data": {
      "image/png": "[encoded data removed]",
      "text/plain": [
       "<Figure size 432x288 with 1 Axes>"
      ]
     },
     "metadata": {
      "needs_background": "light"
     },
     "output_type": "display_data"
    }
   ],
   "source": [
    "plt.boxplot(am.stroke)"
   ]
  },
  {
   "cell_type": "code",
   "execution_count": 208,
   "id": "449bb306",
   "metadata": {},
   "outputs": [
    {
     "data": {
      "text/plain": [
       "{'whiskers': [<matplotlib.lines.Line2D at 0x235c175e370>,\n",
       "  <matplotlib.lines.Line2D at 0x235c175e700>],\n",
       " 'caps': [<matplotlib.lines.Line2D at 0x235c175ea90>,\n",
       "  <matplotlib.lines.Line2D at 0x235c175ee20>],\n",
       " 'boxes': [<matplotlib.lines.Line2D at 0x235c174ffa0>],\n",
       " 'medians': [<matplotlib.lines.Line2D at 0x235c176a1f0>],\n",
       " 'fliers': [<matplotlib.lines.Line2D at 0x235c176a580>],\n",
       " 'means': []}"
      ]
     },
     "execution_count": 208,
     "metadata": {},
     "output_type": "execute_result"
    },
    {
     "data": {
      "image/png": "[encoded data removed]",
      "text/plain": [
       "<Figure size 432x288 with 1 Axes>"
      ]
     },
     "metadata": {
      "needs_background": "light"
     },
     "output_type": "display_data"
    }
   ],
   "source": [
    "plt.boxplot(am.compression_ratio)"
   ]
  },
  {
   "cell_type": "code",
   "execution_count": 209,
   "id": "050c5545",
   "metadata": {},
   "outputs": [
    {
     "data": {
      "text/plain": [
       "{'whiskers': [<matplotlib.lines.Line2D at 0x235c17c4970>,\n",
       "  <matplotlib.lines.Line2D at 0x235c17c4c40>],\n",
       " 'caps': [<matplotlib.lines.Line2D at 0x235c17c4fd0>,\n",
       "  <matplotlib.lines.Line2D at 0x235c17d13a0>],\n",
       " 'boxes': [<matplotlib.lines.Line2D at 0x235c17c46d0>],\n",
       " 'medians': [<matplotlib.lines.Line2D at 0x235c17d1730>],\n",
       " 'fliers': [<matplotlib.lines.Line2D at 0x235c17d1ac0>],\n",
       " 'means': []}"
      ]
     },
     "execution_count": 209,
     "metadata": {},
     "output_type": "execute_result"
    },
    {
     "data": {
      "image/png": "[encoded data removed]",
      "text/plain": [
       "<Figure size 432x288 with 1 Axes>"
      ]
     },
     "metadata": {
      "needs_background": "light"
     },
     "output_type": "display_data"
    }
   ],
   "source": [
    "plt.boxplot(am.horpower)"
   ]
  },
  {
   "cell_type": "code",
   "execution_count": 210,
   "id": "894161fb",
   "metadata": {},
   "outputs": [
    {
     "data": {
      "text/plain": [
       "{'whiskers': [<matplotlib.lines.Line2D at 0x235c1826af0>,\n",
       "  <matplotlib.lines.Line2D at 0x235c1826e80>],\n",
       " 'caps': [<matplotlib.lines.Line2D at 0x235c1835250>,\n",
       "  <matplotlib.lines.Line2D at 0x235c18355e0>],\n",
       " 'boxes': [<matplotlib.lines.Line2D at 0x235c1826760>],\n",
       " 'medians': [<matplotlib.lines.Line2D at 0x235c1835970>],\n",
       " 'fliers': [<matplotlib.lines.Line2D at 0x235c1835d00>],\n",
       " 'means': []}"
      ]
     },
     "execution_count": 210,
     "metadata": {},
     "output_type": "execute_result"
    },
    {
     "data": {
      "image/png": "[encoded data removed]",
      "text/plain": [
       "<Figure size 432x288 with 1 Axes>"
      ]
     },
     "metadata": {
      "needs_background": "light"
     },
     "output_type": "display_data"
    }
   ],
   "source": [
    "plt.boxplot(am.peak_rpm)"
   ]
  },
  {
   "cell_type": "code",
   "execution_count": 211,
   "id": "20768de2",
   "metadata": {},
   "outputs": [
    {
     "data": {
      "text/plain": [
       "{'whiskers': [<matplotlib.lines.Line2D at 0x235c188aeb0>,\n",
       "  <matplotlib.lines.Line2D at 0x235c1898280>],\n",
       " 'caps': [<matplotlib.lines.Line2D at 0x235c1898610>,\n",
       "  <matplotlib.lines.Line2D at 0x235c18989a0>],\n",
       " 'boxes': [<matplotlib.lines.Line2D at 0x235c188ab20>],\n",
       " 'medians': [<matplotlib.lines.Line2D at 0x235c1898d30>],\n",
       " 'fliers': [<matplotlib.lines.Line2D at 0x235c18a6100>],\n",
       " 'means': []}"
      ]
     },
     "execution_count": 211,
     "metadata": {},
     "output_type": "execute_result"
    },
    {
     "data": {
      "image/png": "[encoded data removed]",
      "text/plain": [
       "<Figure size 432x288 with 1 Axes>"
      ]
     },
     "metadata": {
      "needs_background": "light"
     },
     "output_type": "display_data"
    }
   ],
   "source": [
    "plt.boxplot(am.city_mpg)"
   ]
  },
  {
   "cell_type": "code",
   "execution_count": 212,
   "id": "9521c3e0",
   "metadata": {},
   "outputs": [
    {
     "data": {
      "text/plain": [
       "{'whiskers': [<matplotlib.lines.Line2D at 0x235c19036d0>,\n",
       "  <matplotlib.lines.Line2D at 0x235c1903880>],\n",
       " 'caps': [<matplotlib.lines.Line2D at 0x235c1903c10>,\n",
       "  <matplotlib.lines.Line2D at 0x235c1903fa0>],\n",
       " 'boxes': [<matplotlib.lines.Line2D at 0x235c1903340>],\n",
       " 'medians': [<matplotlib.lines.Line2D at 0x235c190d370>],\n",
       " 'fliers': [<matplotlib.lines.Line2D at 0x235c190d6a0>],\n",
       " 'means': []}"
      ]
     },
     "execution_count": 212,
     "metadata": {},
     "output_type": "execute_result"
    },
    {
     "data": {
      "image/png": "[encoded data removed]",
      "text/plain": [
       "<Figure size 432x288 with 1 Axes>"
      ]
     },
     "metadata": {
      "needs_background": "light"
     },
     "output_type": "display_data"
    }
   ],
   "source": [
    "plt.boxplot(am.highway_mpg)"
   ]
  },
  {
   "cell_type": "markdown",
   "id": "b9ff9674",
   "metadata": {},
   "source": [
    "<h1> Y Variable </h1>"
   ]
  },
  {
   "cell_type": "code",
   "execution_count": 213,
   "id": "6b8ba8ba",
   "metadata": {},
   "outputs": [
    {
     "data": {
      "text/plain": [
       "0"
      ]
     },
     "execution_count": 213,
     "metadata": {},
     "output_type": "execute_result"
    }
   ],
   "source": [
    "am.price.isnull().sum()"
   ]
  },
  {
   "cell_type": "code",
   "execution_count": 214,
   "id": "589f72ba",
   "metadata": {},
   "outputs": [
    {
     "data": {
      "text/plain": [
       "{'whiskers': [<matplotlib.lines.Line2D at 0x235c19723d0>,\n",
       "  <matplotlib.lines.Line2D at 0x235c1972790>],\n",
       " 'caps': [<matplotlib.lines.Line2D at 0x235c1972b50>,\n",
       "  <matplotlib.lines.Line2D at 0x235c1865820>],\n",
       " 'boxes': [<matplotlib.lines.Line2D at 0x235c1972040>],\n",
       " 'medians': [<matplotlib.lines.Line2D at 0x235c1972f40>],\n",
       " 'fliers': [<matplotlib.lines.Line2D at 0x235c197f310>],\n",
       " 'means': []}"
      ]
     },
     "execution_count": 214,
     "metadata": {},
     "output_type": "execute_result"
    },
    {
     "data": {
      "image/png": "[encoded data removed]",
      "text/plain": [
       "<Figure size 432x288 with 1 Axes>"
      ]
     },
     "metadata": {
      "needs_background": "light"
     },
     "output_type": "display_data"
    }
   ],
   "source": [
    "plt.boxplot(am.price)"
   ]
  },
  {
   "cell_type": "markdown",
   "id": "5fee45d8",
   "metadata": {},
   "source": [
    "<h1> analysing the columns to know what are the columns that affects price </h1>"
   ]
  },
  {
   "cell_type": "markdown",
   "id": "a1009fca",
   "metadata": {},
   "source": [
    "<h5> using pearsonr and oneway anova </h5>"
   ]
  },
  {
   "cell_type": "code",
   "execution_count": 215,
   "id": "d32d72b1",
   "metadata": {},
   "outputs": [
    {
     "name": "stdout",
     "output_type": "stream",
     "text": [
      "<class 'pandas.core.frame.DataFrame'>\n",
      "RangeIndex: 205 entries, 0 to 204\n",
      "Data columns (total 26 columns):\n",
      " #   Column             Non-Null Count  Dtype  \n",
      "---  ------             --------------  -----  \n",
      " 0   sym                205 non-null    int64  \n",
      " 1   normloss           205 non-null    float64\n",
      " 2   make               205 non-null    object \n",
      " 3   fuel_type          205 non-null    object \n",
      " 4   aspiration         205 non-null    object \n",
      " 5   no_doors           205 non-null    object \n",
      " 6   body_style         205 non-null    object \n",
      " 7   drive_wheels       205 non-null    object \n",
      " 8   engine_location    205 non-null    object \n",
      " 9   wheel_base         205 non-null    float64\n",
      " 10  length             205 non-null    float64\n",
      " 11  width              205 non-null    float64\n",
      " 12  height             205 non-null    float64\n",
      " 13  curb_weight        205 non-null    int64  \n",
      " 14  engine_type        205 non-null    object \n",
      " 15  no_cylinders       205 non-null    object \n",
      " 16  engine_size        205 non-null    int64  \n",
      " 17  fuel systems       205 non-null    object \n",
      " 18  bore               205 non-null    float64\n",
      " 19  stroke             205 non-null    float64\n",
      " 20  compression_ratio  205 non-null    float64\n",
      " 21  horpower           205 non-null    float64\n",
      " 22  peak_rpm           205 non-null    float64\n",
      " 23  city_mpg           205 non-null    int64  \n",
      " 24  highway_mpg        205 non-null    int64  \n",
      " 25  price              205 non-null    float64\n",
      "dtypes: float64(11), int64(5), object(10)\n",
      "memory usage: 41.8+ KB\n"
     ]
    }
   ],
   "source": [
    "am.info()"
   ]
  },
  {
   "cell_type": "code",
   "execution_count": 216,
   "id": "982bbb1d",
   "metadata": {},
   "outputs": [
    {
     "data": {
      "text/plain": [
       "(-0.08220143736318973, 0.24130433124264047)"
      ]
     },
     "execution_count": 216,
     "metadata": {},
     "output_type": "execute_result"
    }
   ],
   "source": [
    "pearsonr(am.sym,am.price)"
   ]
  },
  {
   "cell_type": "code",
   "execution_count": 217,
   "id": "1144772b",
   "metadata": {},
   "outputs": [
    {
     "data": {
      "text/plain": [
       "(0.13399873429274337, 0.05543057826318259)"
      ]
     },
     "execution_count": 217,
     "metadata": {},
     "output_type": "execute_result"
    }
   ],
   "source": [
    "pearsonr(am.normloss,am.price)"
   ]
  },
  {
   "cell_type": "code",
   "execution_count": 218,
   "id": "5e9608e0",
   "metadata": {},
   "outputs": [
    {
     "data": {
      "text/plain": [
       "(0.5831681499789547, 4.527625545686765e-20)"
      ]
     },
     "execution_count": 218,
     "metadata": {},
     "output_type": "execute_result"
    }
   ],
   "source": [
    "pearsonr(am.wheel_base,am.price)"
   ]
  },
  {
   "cell_type": "code",
   "execution_count": 219,
   "id": "228866e4",
   "metadata": {},
   "outputs": [
    {
     "data": {
      "text/plain": [
       "(0.6829862954386219, 1.6498873291218535e-29)"
      ]
     },
     "execution_count": 219,
     "metadata": {},
     "output_type": "execute_result"
    }
   ],
   "source": [
    "pearsonr(am.length,am.price)"
   ]
  },
  {
   "cell_type": "code",
   "execution_count": 220,
   "id": "350ef92f",
   "metadata": {},
   "outputs": [
    {
     "data": {
      "text/plain": [
       "(0.7286988175931839, 3.214520483804664e-35)"
      ]
     },
     "execution_count": 220,
     "metadata": {},
     "output_type": "execute_result"
    }
   ],
   "source": [
    "pearsonr(am.width,am.price)"
   ]
  },
  {
   "cell_type": "code",
   "execution_count": 221,
   "id": "1c78a5b6",
   "metadata": {},
   "outputs": [
    {
     "data": {
      "text/plain": [
       "(0.13438751871051807, 0.05471982048424776)"
      ]
     },
     "execution_count": 221,
     "metadata": {},
     "output_type": "execute_result"
    }
   ],
   "source": [
    "pearsonr(am.height,am.price)"
   ]
  },
  {
   "cell_type": "code",
   "execution_count": 222,
   "id": "881bb479",
   "metadata": {},
   "outputs": [
    {
     "data": {
      "text/plain": [
       "(0.820824733354729, 2.8663321070270534e-51)"
      ]
     },
     "execution_count": 222,
     "metadata": {},
     "output_type": "execute_result"
    }
   ],
   "source": [
    "pearsonr(am.curb_weight,am.price)"
   ]
  },
  {
   "cell_type": "code",
   "execution_count": 223,
   "id": "096a25b0",
   "metadata": {},
   "outputs": [
    {
     "data": {
      "text/plain": [
       "(0.8617522436859721, 9.669661923634776e-62)"
      ]
     },
     "execution_count": 223,
     "metadata": {},
     "output_type": "execute_result"
    }
   ],
   "source": [
    "pearsonr(am.engine_size,am.price)"
   ]
  },
  {
   "cell_type": "code",
   "execution_count": 224,
   "id": "45d02df7",
   "metadata": {},
   "outputs": [
    {
     "data": {
      "text/plain": [
       "(0.5323000195387407, 2.1398306512855486e-16)"
      ]
     },
     "execution_count": 224,
     "metadata": {},
     "output_type": "execute_result"
    }
   ],
   "source": [
    "pearsonr(am.bore,am.price)"
   ]
  },
  {
   "cell_type": "code",
   "execution_count": 225,
   "id": "7ce58e14",
   "metadata": {},
   "outputs": [
    {
     "data": {
      "text/plain": [
       "(0.08209529554134327, 0.24191456857746316)"
      ]
     },
     "execution_count": 225,
     "metadata": {},
     "output_type": "execute_result"
    }
   ],
   "source": [
    "pearsonr(am.stroke,am.price)"
   ]
  },
  {
   "cell_type": "code",
   "execution_count": 226,
   "id": "a476b9f5",
   "metadata": {},
   "outputs": [
    {
     "data": {
      "text/plain": [
       "(0.07099036277901556, 0.31178249194905244)"
      ]
     },
     "execution_count": 226,
     "metadata": {},
     "output_type": "execute_result"
    }
   ],
   "source": [
    "pearsonr(am.compression_ratio,am.price)"
   ]
  },
  {
   "cell_type": "code",
   "execution_count": 227,
   "id": "9d2f9601",
   "metadata": {},
   "outputs": [
    {
     "data": {
      "text/plain": [
       "(0.7579169537498177, 1.6076703978130332e-39)"
      ]
     },
     "execution_count": 227,
     "metadata": {},
     "output_type": "execute_result"
    }
   ],
   "source": [
    "pearsonr(am.horpower,am.price)"
   ]
  },
  {
   "cell_type": "code",
   "execution_count": 228,
   "id": "43538eef",
   "metadata": {},
   "outputs": [
    {
     "data": {
      "text/plain": [
       "(-0.10085406591169085, 0.15019246954232154)"
      ]
     },
     "execution_count": 228,
     "metadata": {},
     "output_type": "execute_result"
    }
   ],
   "source": [
    "pearsonr(am.peak_rpm,am.price)"
   ]
  },
  {
   "cell_type": "code",
   "execution_count": 229,
   "id": "1d3eb6ef",
   "metadata": {},
   "outputs": [
    {
     "data": {
      "text/plain": [
       "(-0.6674492651600004, 8.463700497727807e-28)"
      ]
     },
     "execution_count": 229,
     "metadata": {},
     "output_type": "execute_result"
    }
   ],
   "source": [
    "pearsonr(am.city_mpg,am.price)"
   ]
  },
  {
   "cell_type": "code",
   "execution_count": 230,
   "id": "917b603e",
   "metadata": {},
   "outputs": [
    {
     "data": {
      "text/plain": [
       "(-0.6905257341183488, 2.23246740583743e-30)"
      ]
     },
     "execution_count": 230,
     "metadata": {},
     "output_type": "execute_result"
    }
   ],
   "source": [
    "pearsonr(am.highway_mpg,am.price)"
   ]
  },
  {
   "cell_type": "markdown",
   "id": "d9697a8f",
   "metadata": {},
   "source": [
    "<h2> oneway anova </h2>"
   ]
  },
  {
   "cell_type": "code",
   "execution_count": 231,
   "id": "9b94609b",
   "metadata": {},
   "outputs": [
    {
     "data": {
      "text/plain": [
       "F_onewayResult(statistic=2.4958589760681935, pvalue=0.11570297526361666)"
      ]
     },
     "execution_count": 231,
     "metadata": {},
     "output_type": "execute_result"
    }
   ],
   "source": [
    "stats.f_oneway(am.price[am.fuel_type=='gas'],am.price[am.fuel_type=='diesel'])"
   ]
  },
  {
   "cell_type": "code",
   "execution_count": 232,
   "id": "52832619",
   "metadata": {},
   "outputs": [
    {
     "data": {
      "text/plain": [
       "F_onewayResult(statistic=6.587289855140993, pvalue=0.010991046478632666)"
      ]
     },
     "execution_count": 232,
     "metadata": {},
     "output_type": "execute_result"
    }
   ],
   "source": [
    "stats.f_oneway(am.price[am.aspiration=='std'],am.price[am.aspiration=='turbo'])"
   ]
  },
  {
   "cell_type": "code",
   "execution_count": 233,
   "id": "7f7d21ce",
   "metadata": {},
   "outputs": [
    {
     "data": {
      "text/plain": [
       "F_onewayResult(statistic=0.35778516571700403, pvalue=0.5504056367624801)"
      ]
     },
     "execution_count": 233,
     "metadata": {},
     "output_type": "execute_result"
    }
   ],
   "source": [
    "stats.f_oneway(am.price[am.no_doors=='four'],am.price[am.no_doors=='two'])"
   ]
  },
  {
   "cell_type": "code",
   "execution_count": 234,
   "id": "32cf2cae",
   "metadata": {},
   "outputs": [
    {
     "data": {
      "text/plain": [
       "F_onewayResult(statistic=67.5036668266912, pvalue=3.5392707916047903e-23)"
      ]
     },
     "execution_count": 234,
     "metadata": {},
     "output_type": "execute_result"
    }
   ],
   "source": [
    "stats.f_oneway(am.price[am.drive_wheels=='fwd'],am.price[am.drive_wheels=='rwd'],am.price[am.drive_wheels=='4wd'])"
   ]
  },
  {
   "cell_type": "code",
   "execution_count": 235,
   "id": "a858d669",
   "metadata": {},
   "outputs": [
    {
     "data": {
      "text/plain": [
       "F_onewayResult(statistic=9.183927252573389, pvalue=7.844575720929884e-07)"
      ]
     },
     "execution_count": 235,
     "metadata": {},
     "output_type": "execute_result"
    }
   ],
   "source": [
    "stats.f_oneway(am.price[am.body_style=='convertible'],am.price[am.body_style=='hatchback'],am.price[am.body_style=='sedan'],am.price[am.body_style=='wagon'],am.price[am.body_style=='hardtop'])"
   ]
  },
  {
   "cell_type": "code",
   "execution_count": 236,
   "id": "4fc41496",
   "metadata": {},
   "outputs": [
    {
     "data": {
      "text/plain": [
       "F_onewayResult(statistic=24.979629190446918, pvalue=1.2486063656822578e-06)"
      ]
     },
     "execution_count": 236,
     "metadata": {},
     "output_type": "execute_result"
    }
   ],
   "source": [
    "stats.f_oneway(am.price[am.engine_location=='front'],am.price[am.engine_location=='rear'])"
   ]
  },
  {
   "cell_type": "code",
   "execution_count": 237,
   "id": "4663c305",
   "metadata": {},
   "outputs": [
    {
     "ename": "SyntaxError",
     "evalue": "unexpected EOF while parsing (Temp/ipykernel_6660/852087327.py, line 1)",
     "output_type": "error",
     "traceback": [
      "\u001b[1;36m  File \u001b[1;32m\"C:\\Users\\Dell\\AppData\\Local\\Temp/ipykernel_6660/852087327.py\"\u001b[1;36m, line \u001b[1;32m1\u001b[0m\n\u001b[1;33m    stats.f_oneway(am.price[am.engine_type=='ohc'],am.price[am.engine_type=='ohcf'],am.price[am.engine_type=='ohcv'],am.price[am.engine_type=='l'],am.price[am.engine_type=='rotor']\u001b[0m\n\u001b[1;37m                                                                                                                                                                                    ^\u001b[0m\n\u001b[1;31mSyntaxError\u001b[0m\u001b[1;31m:\u001b[0m unexpected EOF while parsing\n"
     ]
    }
   ],
   "source": [
    "stats.f_oneway(am.price[am.engine_type=='ohc'],am.price[am.engine_type=='ohcf'],am.price[am.engine_type=='ohcv'],am.price[am.engine_type=='l'],am.price[am.engine_type=='rotor']"
   ]
  },
  {
   "cell_type": "code",
   "execution_count": 238,
   "id": "74632621",
   "metadata": {},
   "outputs": [
    {
     "name": "stdout",
     "output_type": "stream",
     "text": [
      "<class 'pandas.core.frame.DataFrame'>\n",
      "RangeIndex: 205 entries, 0 to 204\n",
      "Data columns (total 26 columns):\n",
      " #   Column             Non-Null Count  Dtype  \n",
      "---  ------             --------------  -----  \n",
      " 0   sym                205 non-null    int64  \n",
      " 1   normloss           205 non-null    float64\n",
      " 2   make               205 non-null    object \n",
      " 3   fuel_type          205 non-null    object \n",
      " 4   aspiration         205 non-null    object \n",
      " 5   no_doors           205 non-null    object \n",
      " 6   body_style         205 non-null    object \n",
      " 7   drive_wheels       205 non-null    object \n",
      " 8   engine_location    205 non-null    object \n",
      " 9   wheel_base         205 non-null    float64\n",
      " 10  length             205 non-null    float64\n",
      " 11  width              205 non-null    float64\n",
      " 12  height             205 non-null    float64\n",
      " 13  curb_weight        205 non-null    int64  \n",
      " 14  engine_type        205 non-null    object \n",
      " 15  no_cylinders       205 non-null    object \n",
      " 16  engine_size        205 non-null    int64  \n",
      " 17  fuel systems       205 non-null    object \n",
      " 18  bore               205 non-null    float64\n",
      " 19  stroke             205 non-null    float64\n",
      " 20  compression_ratio  205 non-null    float64\n",
      " 21  horpower           205 non-null    float64\n",
      " 22  peak_rpm           205 non-null    float64\n",
      " 23  city_mpg           205 non-null    int64  \n",
      " 24  highway_mpg        205 non-null    int64  \n",
      " 25  price              205 non-null    float64\n",
      "dtypes: float64(11), int64(5), object(10)\n",
      "memory usage: 41.8+ KB\n"
     ]
    }
   ],
   "source": [
    "am.info()"
   ]
  },
  {
   "cell_type": "code",
   "execution_count": 239,
   "id": "0f243f45",
   "metadata": {},
   "outputs": [
    {
     "data": {
      "text/plain": [
       "F_onewayResult(statistic=45.72705376201727, pvalue=7.149269882584999e-35)"
      ]
     },
     "execution_count": 239,
     "metadata": {},
     "output_type": "execute_result"
    }
   ],
   "source": [
    "stats.f_oneway(am.price[am.no_cylinders=='four'],am.price[am.no_cylinders=='six'],am.price[am.no_cylinders=='five'],am.price[am.no_cylinders=='eight'],am.price[am.no_cylinders=='two'],am.price[am.no_cylinders=='three'],am.price[am.no_cylinders=='twelve'])\n"
   ]
  },
  {
   "cell_type": "code",
   "execution_count": 240,
   "id": "b41a96f8",
   "metadata": {},
   "outputs": [
    {
     "ename": "SyntaxError",
     "evalue": "invalid syntax (Temp/ipykernel_6660/37439825.py, line 1)",
     "output_type": "error",
     "traceback": [
      "\u001b[1;36m  File \u001b[1;32m\"C:\\Users\\Dell\\AppData\\Local\\Temp/ipykernel_6660/37439825.py\"\u001b[1;36m, line \u001b[1;32m1\u001b[0m\n\u001b[1;33m    stats.f_oneway(am.price[am.fuel systems=='mpfi'],am.price[am.fuel systems=='2bbl'],am.price[am.fuel systems=='idi'],am.price[am.fuel systems=='1bbl'],am.price[am.fuel systems=='spdi'],am.price[am.fuel systems=='4bbl'],am.price[am.fuel systems=='mfi'],am.price[am.fuel systems=='spfi'])\u001b[0m\n\u001b[1;37m                                    ^\u001b[0m\n\u001b[1;31mSyntaxError\u001b[0m\u001b[1;31m:\u001b[0m invalid syntax\n"
     ]
    }
   ],
   "source": [
    "stats.f_oneway(am.price[am.fuel systems=='mpfi'],am.price[am.fuel systems=='2bbl'],am.price[am.fuel systems=='idi'],am.price[am.fuel systems=='1bbl'],am.price[am.fuel systems=='spdi'],am.price[am.fuel systems=='4bbl'],am.price[am.fuel systems=='mfi'],am.price[am.fuel systems=='spfi'])\n"
   ]
  },
  {
   "cell_type": "code",
   "execution_count": 242,
   "id": "4aa1063a",
   "metadata": {},
   "outputs": [
    {
     "ename": "SyntaxError",
     "evalue": "invalid syntax (Temp/ipykernel_6660/2743739252.py, line 1)",
     "output_type": "error",
     "traceback": [
      "\u001b[1;36m  File \u001b[1;32m\"C:\\Users\\Dell\\AppData\\Local\\Temp/ipykernel_6660/2743739252.py\"\u001b[1;36m, line \u001b[1;32m1\u001b[0m\n\u001b[1;33m    stats.f_oneway(am.price[am.fuel systems=='mpfi'],am.price[am.fuel systems=='2bbl'],am.price[am.fuel systems=='idi'],am.price[am.fuel systems=='1bbl'],am.price[am.fuel systems=='spdi'],am.price[am.fuel systems=='4bbl'],am.price[am.fuel systems=='mfi'],am.price[am.fuel systems=='spfi'])\u001b[0m\n\u001b[1;37m                                    ^\u001b[0m\n\u001b[1;31mSyntaxError\u001b[0m\u001b[1;31m:\u001b[0m invalid syntax\n"
     ]
    }
   ],
   "source": [
    "stats.f_oneway(am.price[am.fuel systems=='mpfi'],am.price[am.fuel systems=='2bbl'],am.price[am.fuel systems=='idi'],am.price[am.fuel systems=='1bbl'],am.price[am.fuel systems=='spdi'],am.price[am.fuel systems=='4bbl'],am.price[am.fuel systems=='mfi'],am.price[am.fuel systems=='spfi'])"
   ]
  },
  {
   "cell_type": "code",
   "execution_count": 241,
   "id": "c0b82c05",
   "metadata": {},
   "outputs": [
    {
     "ename": "SyntaxError",
     "evalue": "invalid syntax (Temp/ipykernel_6660/37439825.py, line 1)",
     "output_type": "error",
     "traceback": [
      "\u001b[1;36m  File \u001b[1;32m\"C:\\Users\\Dell\\AppData\\Local\\Temp/ipykernel_6660/37439825.py\"\u001b[1;36m, line \u001b[1;32m1\u001b[0m\n\u001b[1;33m    stats.f_oneway(am.price[am.fuel systems=='mpfi'],am.price[am.fuel systems=='2bbl'],am.price[am.fuel systems=='idi'],am.price[am.fuel systems=='1bbl'],am.price[am.fuel systems=='spdi'],am.price[am.fuel systems=='4bbl'],am.price[am.fuel systems=='mfi'],am.price[am.fuel systems=='spfi'])\u001b[0m\n\u001b[1;37m                                    ^\u001b[0m\n\u001b[1;31mSyntaxError\u001b[0m\u001b[1;31m:\u001b[0m invalid syntax\n"
     ]
    }
   ],
   "source": [
    "stats.f_oneway(am.price[am.fuel systems=='mpfi'],am.price[am.fuel systems=='2bbl'],am.price[am.fuel systems=='idi'],am.price[am.fuel systems=='1bbl'],am.price[am.fuel systems=='spdi'],am.price[am.fuel systems=='4bbl'],am.price[am.fuel systems=='mfi'],am.price[am.fuel systems=='spfi'])\n"
   ]
  },
  {
   "cell_type": "code",
   "execution_count": null,
   "id": "fd4e0f77",
   "metadata": {},
   "outputs": [],
   "source": [
    "stats.f_oneway(df.price[df.fuelSystem=='mpfi'],df.price[df.fuelSystem=='2bbl'],df.price[df.fuelSystem=='idi'],df.price[df.fuelSystem=='1bbl'],df.price[df.fuel System=='spdi'],df.price[df.fuelSystem=='4bbl'],df.price[df.fuelSystem=='mfi'],df.price[df.fuelSystem=='spfi'])\n"
   ]
  },
  {
   "cell_type": "code",
   "execution_count": 246,
   "id": "f5b1bb8b",
   "metadata": {},
   "outputs": [
    {
     "ename": "SyntaxError",
     "evalue": "invalid syntax (Temp/ipykernel_6660/251192660.py, line 1)",
     "output_type": "error",
     "traceback": [
      "\u001b[1;36m  File \u001b[1;32m\"C:\\Users\\Dell\\AppData\\Local\\Temp/ipykernel_6660/251192660.py\"\u001b[1;36m, line \u001b[1;32m1\u001b[0m\n\u001b[1;33m    am.fuel systems.type\u001b[0m\n\u001b[1;37m            ^\u001b[0m\n\u001b[1;31mSyntaxError\u001b[0m\u001b[1;31m:\u001b[0m invalid syntax\n"
     ]
    }
   ],
   "source": []
  },
  {
   "cell_type": "markdown",
   "id": "9aa6408e",
   "metadata": {},
   "source": [
    "<h2> columns that are not affecting the price </h2>"
   ]
  },
  {
   "cell_type": "code",
   "execution_count": 249,
   "id": "ce1c9b43",
   "metadata": {},
   "outputs": [],
   "source": [
    "am.drop(['sym','normloss','make','height','no_doors','stroke','compression_ratio','peak_rpm','fuel_type'],axis=1,inplace=True)"
   ]
  },
  {
   "cell_type": "code",
   "execution_count": 250,
   "id": "7c2f24a0",
   "metadata": {},
   "outputs": [
    {
     "data": {
      "text/plain": [
       "Index(['aspiration', 'body_style', 'drive_wheels', 'engine_location',\n",
       "       'wheel_base', 'length', 'width', 'curb_weight', 'engine_type',\n",
       "       'no_cylinders', 'engine_size', 'fuel systems', 'bore', 'horpower',\n",
       "       'city_mpg', 'highway_mpg', 'price'],\n",
       "      dtype='object')"
      ]
     },
     "execution_count": 250,
     "metadata": {},
     "output_type": "execute_result"
    }
   ],
   "source": [
    "am.columns"
   ]
  },
  {
   "cell_type": "code",
   "execution_count": null,
   "id": "02929082",
   "metadata": {},
   "outputs": [],
   "source": []
  },
  {
   "cell_type": "code",
   "execution_count": null,
   "id": "78941457",
   "metadata": {},
   "outputs": [],
   "source": []
  }
 ],
 "metadata": {
  "kernelspec": {
   "display_name": "Python 3 (ipykernel)",
   "language": "python",
   "name": "python3"
  },
  "language_info": {
   "codemirror_mode": {
    "name": "ipython",
    "version": 3
   },
   "file_extension": ".py",
   "mimetype": "text/x-python",
   "name": "python",
   "nbconvert_exporter": "python",
   "pygments_lexer": "ipython3",
   "version": "3.9.7"
  }
 },
 "nbformat": 4,
 "nbformat_minor": 5
}
